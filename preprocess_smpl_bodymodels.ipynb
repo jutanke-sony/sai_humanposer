{
 "cells": [
  {
   "cell_type": "code",
   "execution_count": null,
   "metadata": {},
   "outputs": [
    {
     "name": "stdout",
     "output_type": "stream",
     "text": [
      "J_regressor_prior\n",
      "(24, 6890) float64\n",
      "f\n",
      "(13776, 3) uint32\n",
      "J_regressor\n",
      "(24, 6890) float64\n",
      "kintree_table\n",
      "(2, 24) uint32\n",
      "J\n",
      "(24, 3) float64\n",
      "weights_prior\n",
      "(6890, 24) float64\n",
      "weights\n",
      "(6890, 24) float64\n",
      "vert_sym_idxs\n",
      "(6890,) int64\n",
      "posedirs\n",
      "(6890, 3, 207) float64\n",
      "pose_training_info\n",
      "dict>> ['expid', 'J_regressor_prior_wt', 'restpose_type', 'bs_style', 'gender', 'bs_type']\n",
      "bs_style\n",
      "str>>> lbs\n",
      "v_template\n",
      "(6890, 3) float64\n",
      "shapedirs\n",
      "(6890, 3, 10) float64\n",
      "bs_type\n",
      "str>>> lrotmin\n"
     ]
    },
    {
     "name": "stderr",
     "output_type": "stream",
     "text": [
      "/var/folders/ks/gldbm3611tn3t51ds787f3nc0000gn/T/ipykernel_86649/1288238077.py:11: DeprecationWarning: Please import `csc_matrix` from the `scipy.sparse` namespace; the `scipy.sparse.csc` namespace is deprecated and will be removed in SciPy 2.0.0.\n",
      "  data = pickle.load(f, encoding='latin1')\n"
     ]
    }
   ],
   "source": [
    "%matplotlib inline\n",
    "import matplotlib.pyplot as plt\n",
    "import numpy as np\n",
    "import pickle\n",
    "\n",
    "from os.path import abspath\n",
    "\n",
    "import pickle\n",
    "\n",
    "fname = \"/Users/Julian.Tanke/Documents/Code/sai_humanposer/bodymodels/smpl/basicmodel_m_lbs_10_207_0_v1.0.0.pkl\"\n",
    "\n",
    "with open(fname, \"rb\") as f:\n",
    "    data = pickle.load(f, encoding='latin1')\n",
    "\n",
    "for k, v in data.items():\n",
    "    print(k)\n",
    "    if isinstance(v, dict):\n",
    "        print(\"dict>>\", list(v.keys()))\n",
    "    elif isinstance(v, str):\n",
    "        print(\"str>>>\", v)\n",
    "    else:\n",
    "        print(v.shape, v.dtype)"
   ]
  },
  {
   "cell_type": "code",
   "execution_count": 56,
   "metadata": {},
   "outputs": [
    {
     "name": "stderr",
     "output_type": "stream",
     "text": [
      "/var/folders/ks/gldbm3611tn3t51ds787f3nc0000gn/T/ipykernel_86649/4013299047.py:5: DeprecationWarning: Please import `csc_matrix` from the `scipy.sparse` namespace; the `scipy.sparse.csc` namespace is deprecated and will be removed in SciPy 2.0.0.\n",
      "  data = pickle.load(f, encoding='latin1')\n"
     ]
    },
    {
     "name": "stdout",
     "output_type": "stream",
     "text": [
      "outname /Users/Julian.Tanke/Library/CloudStorage/OneDrive-Sony/Documents/Code/sai_humanposer/output/preprocessing/SMPL_FEMALE.npz\n",
      "outname /Users/Julian.Tanke/Library/CloudStorage/OneDrive-Sony/Documents/Code/sai_humanposer/output/preprocessing/SMPL_MALE.npz\n",
      "outname /Users/Julian.Tanke/Library/CloudStorage/OneDrive-Sony/Documents/Code/sai_humanposer/output/preprocessing/SMPL_NEUTRAL.npz\n"
     ]
    }
   ],
   "source": [
    "fname2 = \"/Users/Julian.Tanke/Library/CloudStorage/OneDrive-Sony/Documents/Code/sai_humanposer/smplx_models/smpl/SMPL_FEMALE.pkl\"\n",
    "\n",
    "def preprocess_smpl(fname: str, outname: str):\n",
    "    with open(fname, \"rb\") as f:\n",
    "        data = pickle.load(f, encoding='latin1')\n",
    "    print(\"outname\", outname)\n",
    "    np.savez(\n",
    "        outname,\n",
    "        J_regressor_prior=data[\"J_regressor_prior\"].toarray(),\n",
    "        J_regressor=data[\"J_regressor\"].toarray(),\n",
    "        J=data[\"J\"],\n",
    "        kintree_table=data[\"kintree_table\"],\n",
    "        weights_prior=data[\"weights_prior\"],\n",
    "        weights=data[\"weights\"],\n",
    "        posedirs=data[\"posedirs\"],\n",
    "        v_template=data[\"v_template\"],\n",
    "        shapedirs=data[\"shapedirs\"].r,\n",
    "        f=data[\"f\"],\n",
    "        bs_type=data[\"bs_type\"],\n",
    "        bs_style=data[\"bs_style\"],\n",
    "    )\n",
    "\n",
    "preprocess_smpl(\n",
    "    fname=\"/Users/Julian.Tanke/Library/CloudStorage/OneDrive-Sony/Documents/Code/sai_humanposer/smplx_models/smpl/SMPL_FEMALE.pkl\",\n",
    "    outname=\"/Users/Julian.Tanke/Library/CloudStorage/OneDrive-Sony/Documents/Code/sai_humanposer/output/preprocessing/SMPL_FEMALE.npz\"\n",
    ")\n",
    "\n",
    "preprocess_smpl(\n",
    "    fname=\"/Users/Julian.Tanke/Library/CloudStorage/OneDrive-Sony/Documents/Code/sai_humanposer/smplx_models/smpl/SMPL_MALE.pkl\",\n",
    "    outname=\"/Users/Julian.Tanke/Library/CloudStorage/OneDrive-Sony/Documents/Code/sai_humanposer/output/preprocessing/SMPL_MALE.npz\"\n",
    ")\n",
    "\n",
    "preprocess_smpl(\n",
    "    fname=\"/Users/Julian.Tanke/Library/CloudStorage/OneDrive-Sony/Documents/Code/sai_humanposer/smplx_models/smpl/SMPL_NEUTRAL.pkl\",\n",
    "    outname=\"/Users/Julian.Tanke/Library/CloudStorage/OneDrive-Sony/Documents/Code/sai_humanposer/output/preprocessing/SMPL_NEUTRAL.npz\"\n",
    ")"
   ]
  },
  {
   "cell_type": "code",
   "execution_count": 75,
   "metadata": {},
   "outputs": [],
   "source": [
    "fname2 = \"/Users/Julian.Tanke/Library/CloudStorage/OneDrive-Sony/Documents/Code/sai_humanposer/bodymodels/smplh/SMPLH_FEMALE.pkl\"\n",
    "with open(fname2, \"rb\") as f:\n",
    "    data = pickle.load(f, encoding='latin1')\n",
    "# data = np.load(fname2, allow_pickle=True)\n",
    "    \n",
    "list(data.keys())\n",
    "\n",
    "def preprocess_smpl(fname: str, outname: str):\n",
    "    with open(fname, \"rb\") as f:\n",
    "        data = pickle.load(f, encoding='latin1')\n",
    "    np.savez(\n",
    "        outname,\n",
    "        J_regressor_prior=data[\"J_regressor_prior\"],\n",
    "        J_regressor=data[\"J_regressor\"],\n",
    "        J=data[\"J\"],\n",
    "        kintree_table=data[\"kintree_table\"],\n",
    "        weights_prior=data[\"weights_prior\"],\n",
    "        weights=data[\"weights\"],\n",
    "        posedirs=data[\"posedirs\"],\n",
    "        v_template=data[\"v_template\"],\n",
    "        shapedirs=data[\"shapedirs\"],\n",
    "        f=data[\"f\"],\n",
    "        bs_type=data[\"bs_type\"],\n",
    "        bs_style=data[\"bs_style\"],\n",
    "        hands_componentsl=data[\"hands_componentsl\"],\n",
    "        hands_componentsr=data[\"hands_componentsr\"],\n",
    "        hands_coeffsl=data[\"hands_coeffsl\"],\n",
    "        hands_coeffsr=data[\"hands_coeffsr\"],\n",
    "        hands_meanl=data[\"hands_meanl\"],\n",
    "        hands_meanr=data[\"hands_meanr\"],\n",
    "    )\n",
    "\n",
    "preprocess_smpl(\n",
    "    fname=\"/Users/Julian.Tanke/Library/CloudStorage/OneDrive-Sony/Documents/Code/sai_humanposer/bodymodels/smplh/SMPLH_FEMALE.pkl\",\n",
    "    outname=\"/Users/Julian.Tanke/Library/CloudStorage/OneDrive-Sony/Documents/Code/sai_humanposer/bodymodels/smplh/SMPLH_FEMALE.npz\"\n",
    ")\n",
    "\n",
    "preprocess_smpl(\n",
    "    fname=\"/Users/Julian.Tanke/Library/CloudStorage/OneDrive-Sony/Documents/Code/sai_humanposer/bodymodels/smplh/SMPLH_MALE.pkl\",\n",
    "    outname=\"/Users/Julian.Tanke/Library/CloudStorage/OneDrive-Sony/Documents/Code/sai_humanposer/bodymodels/smplh/SMPLH_MALE.npz\"\n",
    ")\n",
    "\n",
    "preprocess_smpl(\n",
    "    fname=\"/Users/Julian.Tanke/Library/CloudStorage/OneDrive-Sony/Documents/Code/sai_humanposer/bodymodels/smplh/SMPLH_NEUTRAL.pkl\",\n",
    "    outname=\"/Users/Julian.Tanke/Library/CloudStorage/OneDrive-Sony/Documents/Code/sai_humanposer/bodymodels/smplh/SMPLH_NEUTRAL.npz\"\n",
    ")"
   ]
  }
 ],
 "metadata": {
  "kernelspec": {
   "display_name": "sai_humanposer",
   "language": "python",
   "name": "python3"
  },
  "language_info": {
   "codemirror_mode": {
    "name": "ipython",
    "version": 3
   },
   "file_extension": ".py",
   "mimetype": "text/x-python",
   "name": "python",
   "nbconvert_exporter": "python",
   "pygments_lexer": "ipython3",
   "version": "3.9.19"
  }
 },
 "nbformat": 4,
 "nbformat_minor": 2
}
