{
 "cells": [
  {
   "cell_type": "code",
   "execution_count": 6,
   "metadata": {},
   "outputs": [
    {
     "name": "stdout",
     "output_type": "stream",
     "text": [
      "WARNING: You are using a SMPL model, with only 10 shape coefficients.\n",
      "V (1, 100, 6890, 3)\n"
     ]
    },
    {
     "name": "stderr",
     "output_type": "stream",
     "text": [
      "100%|██████████| 100/100 [00:00<00:00, 203606.99it/s]\n",
      "100%|██████████| 100/100 [00:09<00:00, 10.60it/s]\n",
      "ffmpeg version 7.0.1 Copyright (c) 2000-2024 the FFmpeg developers\n",
      "  built with Apple clang version 15.0.0 (clang-1500.3.9.4)\n",
      "  configuration: --prefix=/opt/homebrew/Cellar/ffmpeg/7.0.1 --enable-shared --enable-pthreads --enable-version3 --cc=clang --host-cflags= --host-ldflags='-Wl,-ld_classic' --enable-ffplay --enable-gnutls --enable-gpl --enable-libaom --enable-libaribb24 --enable-libbluray --enable-libdav1d --enable-libharfbuzz --enable-libjxl --enable-libmp3lame --enable-libopus --enable-librav1e --enable-librist --enable-librubberband --enable-libsnappy --enable-libsrt --enable-libssh --enable-libsvtav1 --enable-libtesseract --enable-libtheora --enable-libvidstab --enable-libvmaf --enable-libvorbis --enable-libvpx --enable-libwebp --enable-libx264 --enable-libx265 --enable-libxml2 --enable-libxvid --enable-lzma --enable-libfontconfig --enable-libfreetype --enable-frei0r --enable-libass --enable-libopencore-amrnb --enable-libopencore-amrwb --enable-libopenjpeg --enable-libspeex --enable-libsoxr --enable-libzmq --enable-libzimg --disable-libjack --disable-indev=jack --enable-videotoolbox --enable-audiotoolbox --enable-neon\n",
      "  libavutil      59.  8.100 / 59.  8.100\n",
      "  libavcodec     61.  3.100 / 61.  3.100\n",
      "  libavformat    61.  1.100 / 61.  1.100\n",
      "  libavdevice    61.  1.100 / 61.  1.100\n",
      "  libavfilter    10.  1.100 / 10.  1.100\n",
      "  libswscale      8.  1.100 /  8.  1.100\n",
      "  libswresample   5.  1.100 /  5.  1.100\n",
      "  libpostproc    58.  1.100 / 58.  1.100\n",
      "Input #0, image2, from '/var/folders/ks/gldbm3611tn3t51ds787f3nc0000gn/T/9XMOR03EEA/%09d.png':\n",
      "  Duration: 00:00:01.67, start: 0.000000, bitrate: N/A\n",
      "  Stream #0:0: Video: png, rgba(pc, gbr/unknown/unknown), 1200x1200 [SAR 3937:3937 DAR 1:1], 60 fps, 60 tbr, 60 tbn\n",
      "[AVFormatContext @ 0x11de2bda0] Unable to choose an output format for ''; use a standard extension for the filename or specify the format manually.\n",
      "[out#0 @ 0x11de2b710] Error initializing the muxer for : Invalid argument\n",
      "Error opening output file .\n",
      "Error opening output files: Invalid argument\n"
     ]
    },
    {
     "ename": "FileNotFoundError",
     "evalue": "[Errno 2] No such file or directory: ''",
     "output_type": "error",
     "traceback": [
      "\u001b[0;31m---------------------------------------------------------------------------\u001b[0m",
      "\u001b[0;31mFileNotFoundError\u001b[0m                         Traceback (most recent call last)",
      "File \u001b[0;32m~/miniconda3/envs/sai_humanposer/lib/python3.9/shutil.py:825\u001b[0m, in \u001b[0;36mmove\u001b[0;34m(src, dst, copy_function)\u001b[0m\n\u001b[1;32m    824\u001b[0m \u001b[38;5;28;01mtry\u001b[39;00m:\n\u001b[0;32m--> 825\u001b[0m     \u001b[43mos\u001b[49m\u001b[38;5;241;43m.\u001b[39;49m\u001b[43mrename\u001b[49m\u001b[43m(\u001b[49m\u001b[43msrc\u001b[49m\u001b[43m,\u001b[49m\u001b[43m \u001b[49m\u001b[43mreal_dst\u001b[49m\u001b[43m)\u001b[49m\n\u001b[1;32m    826\u001b[0m \u001b[38;5;28;01mexcept\u001b[39;00m \u001b[38;5;167;01mOSError\u001b[39;00m:\n",
      "\u001b[0;31mFileNotFoundError\u001b[0m: [Errno 2] No such file or directory: '' -> ''",
      "\nDuring handling of the above exception, another exception occurred:\n",
      "\u001b[0;31mFileNotFoundError\u001b[0m                         Traceback (most recent call last)",
      "Cell \u001b[0;32mIn[6], line 31\u001b[0m\n\u001b[1;32m     22\u001b[0m \u001b[38;5;28mprint\u001b[39m(\u001b[38;5;124m\"\u001b[39m\u001b[38;5;124mV\u001b[39m\u001b[38;5;124m\"\u001b[39m, V\u001b[38;5;241m.\u001b[39mshape)\n\u001b[1;32m     23\u001b[0m \u001b[38;5;66;03m# V = V[0]\u001b[39;00m\n\u001b[1;32m     24\u001b[0m \n\u001b[1;32m     25\u001b[0m \u001b[38;5;66;03m# fig = plt.figure(figsize=(8, 8))\u001b[39;00m\n\u001b[0;32m   (...)\u001b[0m\n\u001b[1;32m     28\u001b[0m \u001b[38;5;66;03m# ax.view_init(90, 270)\u001b[39;00m\n\u001b[1;32m     29\u001b[0m \u001b[38;5;66;03m# plt.show()\u001b[39;00m\n\u001b[0;32m---> 31\u001b[0m \u001b[43mrender_sequence_from_vertices\u001b[49m\u001b[43m(\u001b[49m\u001b[43mvideo_fname\u001b[49m\u001b[38;5;241;43m=\u001b[39;49m\u001b[38;5;124;43m\"\u001b[39;49m\u001b[38;5;124;43m\"\u001b[39;49m\u001b[43m,\u001b[49m\u001b[43m \u001b[49m\u001b[43mVs\u001b[49m\u001b[38;5;241;43m=\u001b[39;49m\u001b[43mV\u001b[49m\u001b[43m,\u001b[49m\u001b[43m \u001b[49m\u001b[43mframerate\u001b[49m\u001b[38;5;241;43m=\u001b[39;49m\u001b[38;5;241;43m60\u001b[39;49m\u001b[43m)\u001b[49m\n",
      "File \u001b[0;32m~/Library/CloudStorage/OneDrive-Sony/Documents/Code/sai_humanposer/./humanposer/vis.py:303\u001b[0m, in \u001b[0;36mrender_sequence_from_vertices\u001b[0;34m(video_fname, Vs, framerate, tmp_key, view_init, axis_off, center_crop, colors, extra_render_fn, tmp_dir, titles)\u001b[0m\n\u001b[1;32m    299\u001b[0m \u001b[38;5;28;01mif\u001b[39;00m center_crop:\n\u001b[1;32m    300\u001b[0m     \u001b[38;5;66;03m# TODO fix this\u001b[39;00m\n\u001b[1;32m    301\u001b[0m     \u001b[38;5;66;03m# ffmpeg -i video.mp4 -vf \"crop=in_w/1.5:in_h/1.5:in_w/5:in_h/5\" -c:a copy out.mp4\u001b[39;00m\n\u001b[1;32m    302\u001b[0m     video_fname_uncropped \u001b[38;5;241m=\u001b[39m video_fname\u001b[38;5;241m.\u001b[39mreplace(\u001b[38;5;124m\"\u001b[39m\u001b[38;5;124m.mp4\u001b[39m\u001b[38;5;124m\"\u001b[39m, \u001b[38;5;124m\"\u001b[39m\u001b[38;5;124m_large.mp4\u001b[39m\u001b[38;5;124m\"\u001b[39m)\n\u001b[0;32m--> 303\u001b[0m     \u001b[43mshutil\u001b[49m\u001b[38;5;241;43m.\u001b[39;49m\u001b[43mmove\u001b[49m\u001b[43m(\u001b[49m\u001b[43mvideo_fname\u001b[49m\u001b[43m,\u001b[49m\u001b[43m \u001b[49m\u001b[43mvideo_fname_uncropped\u001b[49m\u001b[43m)\u001b[49m\n\u001b[1;32m    304\u001b[0m     subprocess\u001b[38;5;241m.\u001b[39mrun(\n\u001b[1;32m    305\u001b[0m         [\n\u001b[1;32m    306\u001b[0m             \u001b[38;5;124m\"\u001b[39m\u001b[38;5;124mffmpeg\u001b[39m\u001b[38;5;124m\"\u001b[39m,\n\u001b[0;32m   (...)\u001b[0m\n\u001b[1;32m    315\u001b[0m         ]\n\u001b[1;32m    316\u001b[0m     )\n\u001b[1;32m    317\u001b[0m     remove(video_fname_uncropped)\n",
      "File \u001b[0;32m~/miniconda3/envs/sai_humanposer/lib/python3.9/shutil.py:845\u001b[0m, in \u001b[0;36mmove\u001b[0;34m(src, dst, copy_function)\u001b[0m\n\u001b[1;32m    843\u001b[0m         rmtree(src)\n\u001b[1;32m    844\u001b[0m     \u001b[38;5;28;01melse\u001b[39;00m:\n\u001b[0;32m--> 845\u001b[0m         \u001b[43mcopy_function\u001b[49m\u001b[43m(\u001b[49m\u001b[43msrc\u001b[49m\u001b[43m,\u001b[49m\u001b[43m \u001b[49m\u001b[43mreal_dst\u001b[49m\u001b[43m)\u001b[49m\n\u001b[1;32m    846\u001b[0m         os\u001b[38;5;241m.\u001b[39munlink(src)\n\u001b[1;32m    847\u001b[0m \u001b[38;5;28;01mreturn\u001b[39;00m real_dst\n",
      "File \u001b[0;32m~/miniconda3/envs/sai_humanposer/lib/python3.9/shutil.py:444\u001b[0m, in \u001b[0;36mcopy2\u001b[0;34m(src, dst, follow_symlinks)\u001b[0m\n\u001b[1;32m    442\u001b[0m \u001b[38;5;28;01mif\u001b[39;00m os\u001b[38;5;241m.\u001b[39mpath\u001b[38;5;241m.\u001b[39misdir(dst):\n\u001b[1;32m    443\u001b[0m     dst \u001b[38;5;241m=\u001b[39m os\u001b[38;5;241m.\u001b[39mpath\u001b[38;5;241m.\u001b[39mjoin(dst, os\u001b[38;5;241m.\u001b[39mpath\u001b[38;5;241m.\u001b[39mbasename(src))\n\u001b[0;32m--> 444\u001b[0m \u001b[43mcopyfile\u001b[49m\u001b[43m(\u001b[49m\u001b[43msrc\u001b[49m\u001b[43m,\u001b[49m\u001b[43m \u001b[49m\u001b[43mdst\u001b[49m\u001b[43m,\u001b[49m\u001b[43m \u001b[49m\u001b[43mfollow_symlinks\u001b[49m\u001b[38;5;241;43m=\u001b[39;49m\u001b[43mfollow_symlinks\u001b[49m\u001b[43m)\u001b[49m\n\u001b[1;32m    445\u001b[0m copystat(src, dst, follow_symlinks\u001b[38;5;241m=\u001b[39mfollow_symlinks)\n\u001b[1;32m    446\u001b[0m \u001b[38;5;28;01mreturn\u001b[39;00m dst\n",
      "File \u001b[0;32m~/miniconda3/envs/sai_humanposer/lib/python3.9/shutil.py:264\u001b[0m, in \u001b[0;36mcopyfile\u001b[0;34m(src, dst, follow_symlinks)\u001b[0m\n\u001b[1;32m    262\u001b[0m     os\u001b[38;5;241m.\u001b[39msymlink(os\u001b[38;5;241m.\u001b[39mreadlink(src), dst)\n\u001b[1;32m    263\u001b[0m \u001b[38;5;28;01melse\u001b[39;00m:\n\u001b[0;32m--> 264\u001b[0m     \u001b[38;5;28;01mwith\u001b[39;00m \u001b[38;5;28;43mopen\u001b[39;49m\u001b[43m(\u001b[49m\u001b[43msrc\u001b[49m\u001b[43m,\u001b[49m\u001b[43m \u001b[49m\u001b[38;5;124;43m'\u001b[39;49m\u001b[38;5;124;43mrb\u001b[39;49m\u001b[38;5;124;43m'\u001b[39;49m\u001b[43m)\u001b[49m \u001b[38;5;28;01mas\u001b[39;00m fsrc:\n\u001b[1;32m    265\u001b[0m         \u001b[38;5;28;01mtry\u001b[39;00m:\n\u001b[1;32m    266\u001b[0m             \u001b[38;5;28;01mwith\u001b[39;00m \u001b[38;5;28mopen\u001b[39m(dst, \u001b[38;5;124m'\u001b[39m\u001b[38;5;124mwb\u001b[39m\u001b[38;5;124m'\u001b[39m) \u001b[38;5;28;01mas\u001b[39;00m fdst:\n\u001b[1;32m    267\u001b[0m                 \u001b[38;5;66;03m# macOS\u001b[39;00m\n",
      "\u001b[0;31mFileNotFoundError\u001b[0m: [Errno 2] No such file or directory: ''"
     ]
    }
   ],
   "source": [
    "%matplotlib inline\n",
    "import sys\n",
    "sys.path.insert(0, \"./\")\n",
    "\n",
    "import matplotlib.pylab as plt\n",
    "import numpy as np\n",
    "\n",
    "from humanposer import get_smpl, smpl_forward_no_grad\n",
    "from einops import rearrange\n",
    "from humanposer.vis import render_sequence_from_vertices\n",
    "\n",
    "# smpl = get_smpl(gender=\"male\")\n",
    "\n",
    "betas = np.zeros((10), dtype=np.float32)\n",
    "smpl_poses = np.zeros((100, 72), dtype=np.float32)\n",
    "global_transl = np.zeros((100, 3), dtype=np.float32)\n",
    "global_transl[:, 0] = np.linspace(0, 1, num=100)\n",
    "\n",
    "V, J = smpl_forward_no_grad(smpl_poses=smpl_poses, betas=betas, global_transl=global_transl)\n",
    "\n",
    "V = rearrange(V, \"t j d -> 1 t j d\")\n",
    "print(\"V\", V.shape)\n",
    "# V = V[0]\n",
    "\n",
    "# fig = plt.figure(figsize=(8, 8))\n",
    "# ax = fig.add_subplot(111, projection=\"3d\")\n",
    "# ax.scatter(V[:, 0], V[:, 1], V[:, 2], s=1)\n",
    "# ax.view_init(90, 270)\n",
    "# plt.show()\n",
    "\n",
    "render_sequence_from_vertices(video_fname=\"/Users/Julian.Tanke/Library/CloudStorage/OneDrive-Sony/Documents/Code/sai_humanposer/output/vid.mp4\", Vs=V, framerate=60)"
   ]
  },
  {
   "cell_type": "code",
   "execution_count": 2,
   "metadata": {},
   "outputs": [],
   "source": [
    "# import os\n",
    "# os.environ[\"model_path\"] = \"/Users/Julian.Tanke/Library/CloudStorage/OneDrive-Sony/Documents/Code/sai_humanposer/bodymodels/smpl\""
   ]
  },
  {
   "cell_type": "code",
   "execution_count": 3,
   "metadata": {},
   "outputs": [],
   "source": [
    "# from aitviewer.configuration import CONFIG as C\n",
    "# C.update_conf({\"smplx_models\": \"/Users/Julian.Tanke/Library/CloudStorage/OneDrive-Sony/Documents/Code/sai_humanposer/smplx_models\"})\n"
   ]
  },
  {
   "cell_type": "code",
   "execution_count": 4,
   "metadata": {},
   "outputs": [
    {
     "name": "stderr",
     "output_type": "stream",
     "text": [
      "Rendering frames:   0%|          | 0/100 [00:00<?, ?it/s]UNSUPPORTED (log once): POSSIBLE ISSUE: unit 0 GLD_TEXTURE_INDEX_2D is unloadable and bound to sampler type (Depth) - using zero texture because texture unloadable\n",
      "Rendering frames: 100%|██████████| 100/100 [00:10<00:00,  9.61it/s]"
     ]
    },
    {
     "name": "stdout",
     "output_type": "stream",
     "text": [
      "Frames saved to /Users/Julian.Tanke/Library/CloudStorage/OneDrive-Sony/Documents/Code/sai_humanposer/output/0001\n"
     ]
    },
    {
     "name": "stderr",
     "output_type": "stream",
     "text": [
      "\n"
     ]
    }
   ],
   "source": [
    "# import torch\n",
    "# from aitviewer.headless import HeadlessRenderer\n",
    "# from aitviewer.renderables.smpl import SMPLSequence\n",
    "# from aitviewer.models.smpl import SMPLLayer\n",
    "\n",
    "# r = HeadlessRenderer()\n",
    "# smpl_layer = SMPLLayer(model_type=\"smpl\", gender=\"neutral\")\n",
    "\n",
    "# poses_body = np.zeros((100, 69), dtype=np.float32)\n",
    "# trans = np.zeros((100, 3), dtype=np.float32)\n",
    "# poses_root = np.zeros((100, 3), dtype=np.float32)\n",
    "\n",
    "# poses_body = torch.from_numpy(poses_body)\n",
    "# trans = torch.from_numpy(trans)\n",
    "\n",
    "# seq = SMPLSequence(poses_body=poses_body, smpl_layer=smpl_layer, trans=trans, poses_root=poses_root)\n",
    "\n",
    "# r.scene.add(seq)\n",
    "\n",
    "\n",
    "# r.save_video(frame_dir=\"/Users/Julian.Tanke/Library/CloudStorage/OneDrive-Sony/Documents/Code/sai_humanposer/output\")\n"
   ]
  }
 ],
 "metadata": {
  "kernelspec": {
   "display_name": "sai_humanposer",
   "language": "python",
   "name": "python3"
  },
  "language_info": {
   "codemirror_mode": {
    "name": "ipython",
    "version": 3
   },
   "file_extension": ".py",
   "mimetype": "text/x-python",
   "name": "python",
   "nbconvert_exporter": "python",
   "pygments_lexer": "ipython3",
   "version": "3.9.19"
  }
 },
 "nbformat": 4,
 "nbformat_minor": 2
}
