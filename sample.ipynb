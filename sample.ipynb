{
 "cells": [
  {
   "cell_type": "code",
   "execution_count": 7,
   "metadata": {},
   "outputs": [
    {
     "name": "stdout",
     "output_type": "stream",
     "text": [
      "WARNING: You are using a SMPL model, with only 10 shape coefficients.\n",
      "V (1, 100, 6890, 3)\n"
     ]
    },
    {
     "name": "stderr",
     "output_type": "stream",
     "text": [
      "100%|██████████| 100/100 [00:00<00:00, 184203.07it/s]\n",
      "100%|██████████| 100/100 [00:09<00:00, 10.71it/s]\n",
      "ffmpeg version 7.0.1 Copyright (c) 2000-2024 the FFmpeg developers\n",
      "  built with Apple clang version 15.0.0 (clang-1500.3.9.4)\n",
      "  configuration: --prefix=/opt/homebrew/Cellar/ffmpeg/7.0.1 --enable-shared --enable-pthreads --enable-version3 --cc=clang --host-cflags= --host-ldflags='-Wl,-ld_classic' --enable-ffplay --enable-gnutls --enable-gpl --enable-libaom --enable-libaribb24 --enable-libbluray --enable-libdav1d --enable-libharfbuzz --enable-libjxl --enable-libmp3lame --enable-libopus --enable-librav1e --enable-librist --enable-librubberband --enable-libsnappy --enable-libsrt --enable-libssh --enable-libsvtav1 --enable-libtesseract --enable-libtheora --enable-libvidstab --enable-libvmaf --enable-libvorbis --enable-libvpx --enable-libwebp --enable-libx264 --enable-libx265 --enable-libxml2 --enable-libxvid --enable-lzma --enable-libfontconfig --enable-libfreetype --enable-frei0r --enable-libass --enable-libopencore-amrnb --enable-libopencore-amrwb --enable-libopenjpeg --enable-libspeex --enable-libsoxr --enable-libzmq --enable-libzimg --disable-libjack --disable-indev=jack --enable-videotoolbox --enable-audiotoolbox --enable-neon\n",
      "  libavutil      59.  8.100 / 59.  8.100\n",
      "  libavcodec     61.  3.100 / 61.  3.100\n",
      "  libavformat    61.  1.100 / 61.  1.100\n",
      "  libavdevice    61.  1.100 / 61.  1.100\n",
      "  libavfilter    10.  1.100 / 10.  1.100\n",
      "  libswscale      8.  1.100 /  8.  1.100\n",
      "  libswresample   5.  1.100 /  5.  1.100\n",
      "  libpostproc    58.  1.100 / 58.  1.100\n",
      "Input #0, image2, from '/var/folders/ks/gldbm3611tn3t51ds787f3nc0000gn/T/ECNGJLUN4N/%09d.png':\n",
      "  Duration: 00:00:01.67, start: 0.000000, bitrate: N/A\n",
      "  Stream #0:0: Video: png, rgba(pc, gbr/unknown/unknown), 1200x1200 [SAR 3937:3937 DAR 1:1], 60 fps, 60 tbr, 60 tbn\n",
      "Stream mapping:\n",
      "  Stream #0:0 -> #0:0 (png (native) -> h264 (libx264))\n",
      "Press [q] to stop, [?] for help\n",
      "[libx264 @ 0x11d70b4e0] using SAR=1/1\n",
      "[libx264 @ 0x11d70b4e0] using cpu capabilities: ARMv8 NEON\n",
      "[libx264 @ 0x11d70b4e0] profile High, level 4.2, 4:2:0, 8-bit\n",
      "[libx264 @ 0x11d70b4e0] 264 - core 164 r3108 31e19f9 - H.264/MPEG-4 AVC codec - Copyleft 2003-2023 - http://www.videolan.org/x264.html - options: cabac=1 ref=3 deblock=1:0:0 analyse=0x3:0x113 me=hex subme=7 psy=1 psy_rd=1.00:0.00 mixed_ref=1 me_range=16 chroma_me=1 trellis=1 8x8dct=1 cqm=0 deadzone=21,11 fast_pskip=1 chroma_qp_offset=-2 threads=18 lookahead_threads=3 sliced_threads=0 nr=0 decimate=1 interlaced=0 bluray_compat=0 constrained_intra=0 bframes=3 b_pyramid=2 b_adapt=1 b_bias=0 direct=1 weightb=1 open_gop=0 weightp=2 keyint=250 keyint_min=25 scenecut=40 intra_refresh=0 rc_lookahead=40 rc=crf mbtree=1 crf=23.0 qcomp=0.60 qpmin=0 qpmax=69 qpstep=4 ip_ratio=1.40 aq=1:1.00\n",
      "Output #0, mp4, to '/Users/Julian.Tanke/Library/CloudStorage/OneDrive-Sony/Documents/Code/sai_humanposer/output/vid.mp4':\n",
      "  Metadata:\n",
      "    encoder         : Lavf61.1.100\n",
      "  Stream #0:0: Video: h264 (avc1 / 0x31637661), yuv420p(progressive), 1200x1200 [SAR 1:1 DAR 1:1], q=2-31, 60 fps, 15360 tbn\n",
      "      Metadata:\n",
      "        encoder         : Lavc61.3.100 libx264\n",
      "      Side data:\n",
      "        cpb: bitrate max/min/avg: 0/0/0 buffer size: 0 vbv_delay: N/A\n",
      "[out#0/mp4 @ 0x11d706a20] video:141KiB audio:0KiB subtitle:0KiB other streams:0KiB global headers:0KiB muxing overhead: 1.359734%\n",
      "frame=  100 fps=0.0 q=-1.0 Lsize=     143KiB time=00:00:01.63 bitrate= 717.1kbits/s speed=6.03x    \n",
      "[libx264 @ 0x11d70b4e0] frame I:1     Avg QP:24.77  size: 20648\n",
      "[libx264 @ 0x11d70b4e0] frame P:29    Avg QP:26.06  size:  3214\n",
      "[libx264 @ 0x11d70b4e0] frame B:70    Avg QP:31.45  size:   427\n",
      "[libx264 @ 0x11d70b4e0] consecutive B-frames:  2.0%  0.0% 42.0% 56.0%\n",
      "[libx264 @ 0x11d70b4e0] mb I  I16..4: 12.5% 85.4%  2.1%\n",
      "[libx264 @ 0x11d70b4e0] mb P  I16..4:  0.1%  0.3%  0.0%  P16..4:  3.4%  0.5%  0.5%  0.0%  0.0%    skip:95.3%\n",
      "[libx264 @ 0x11d70b4e0] mb B  I16..4:  0.0%  0.0%  0.0%  B16..8:  2.3%  0.1%  0.0%  direct: 0.2%  skip:97.3%  L0:50.4% L1:43.7% BI: 6.0%\n",
      "[libx264 @ 0x11d70b4e0] 8x8 transform intra:84.4% inter:59.4%\n",
      "[libx264 @ 0x11d70b4e0] coded y,uvDC,uvAC intra: 3.3% 3.9% 3.7% inter: 0.5% 1.3% 1.2%\n",
      "[libx264 @ 0x11d70b4e0] i16 v,h,dc,p: 87%  4%  9%  0%\n",
      "[libx264 @ 0x11d70b4e0] i8 v,h,dc,ddl,ddr,vr,hd,vl,hu: 49%  3% 48%  0%  0%  0%  0%  0%  0%\n",
      "[libx264 @ 0x11d70b4e0] i4 v,h,dc,ddl,ddr,vr,hd,vl,hu: 32% 15% 28%  3%  3%  5%  4%  5%  5%\n",
      "[libx264 @ 0x11d70b4e0] i8c dc,h,v,p: 93%  3%  3%  0%\n",
      "[libx264 @ 0x11d70b4e0] Weighted P-Frames: Y:0.0% UV:0.0%\n",
      "[libx264 @ 0x11d70b4e0] ref P L0: 51.1%  2.9% 23.5% 22.5%\n",
      "[libx264 @ 0x11d70b4e0] ref B L0: 39.5% 39.6% 20.9%\n",
      "[libx264 @ 0x11d70b4e0] ref B L1: 66.7% 33.3%\n",
      "[libx264 @ 0x11d70b4e0] kb/s:690.00\n",
      "ffmpeg version 7.0.1 Copyright (c) 2000-2024 the FFmpeg developers\n",
      "  built with Apple clang version 15.0.0 (clang-1500.3.9.4)\n",
      "  configuration: --prefix=/opt/homebrew/Cellar/ffmpeg/7.0.1 --enable-shared --enable-pthreads --enable-version3 --cc=clang --host-cflags= --host-ldflags='-Wl,-ld_classic' --enable-ffplay --enable-gnutls --enable-gpl --enable-libaom --enable-libaribb24 --enable-libbluray --enable-libdav1d --enable-libharfbuzz --enable-libjxl --enable-libmp3lame --enable-libopus --enable-librav1e --enable-librist --enable-librubberband --enable-libsnappy --enable-libsrt --enable-libssh --enable-libsvtav1 --enable-libtesseract --enable-libtheora --enable-libvidstab --enable-libvmaf --enable-libvorbis --enable-libvpx --enable-libwebp --enable-libx264 --enable-libx265 --enable-libxml2 --enable-libxvid --enable-lzma --enable-libfontconfig --enable-libfreetype --enable-frei0r --enable-libass --enable-libopencore-amrnb --enable-libopencore-amrwb --enable-libopenjpeg --enable-libspeex --enable-libsoxr --enable-libzmq --enable-libzimg --disable-libjack --disable-indev=jack --enable-videotoolbox --enable-audiotoolbox --enable-neon\n",
      "  libavutil      59.  8.100 / 59.  8.100\n",
      "  libavcodec     61.  3.100 / 61.  3.100\n",
      "  libavformat    61.  1.100 / 61.  1.100\n",
      "  libavdevice    61.  1.100 / 61.  1.100\n",
      "  libavfilter    10.  1.100 / 10.  1.100\n",
      "  libswscale      8.  1.100 /  8.  1.100\n",
      "  libswresample   5.  1.100 /  5.  1.100\n",
      "  libpostproc    58.  1.100 / 58.  1.100\n",
      "Input #0, mov,mp4,m4a,3gp,3g2,mj2, from '/Users/Julian.Tanke/Library/CloudStorage/OneDrive-Sony/Documents/Code/sai_humanposer/output/vid_large.mp4':\n",
      "  Metadata:\n",
      "    major_brand     : isom\n",
      "    minor_version   : 512\n",
      "    compatible_brands: isomiso2avc1mp41\n",
      "    encoder         : Lavf61.1.100\n",
      "  Duration: 00:00:01.67, start: 0.000000, bitrate: 702 kb/s\n",
      "  Stream #0:0[0x1](und): Video: h264 (High) (avc1 / 0x31637661), yuv420p(progressive), 1200x1200 [SAR 1:1 DAR 1:1], 693 kb/s, 60 fps, 60 tbr, 15360 tbn (default)\n",
      "      Metadata:\n",
      "        handler_name    : VideoHandler\n",
      "        vendor_id       : [0][0][0][0]\n",
      "        encoder         : Lavc61.3.100 libx264\n",
      "Stream mapping:\n",
      "  Stream #0:0 -> #0:0 (h264 (native) -> h264 (libx264))\n",
      "Press [q] to stop, [?] for help\n",
      "[libx264 @ 0x14ef2d380] using SAR=1/1\n",
      "[libx264 @ 0x14ef2d380] using cpu capabilities: ARMv8 NEON\n",
      "[libx264 @ 0x14ef2d380] profile High, level 3.2, 4:2:0, 8-bit\n",
      "[libx264 @ 0x14ef2d380] 264 - core 164 r3108 31e19f9 - H.264/MPEG-4 AVC codec - Copyleft 2003-2023 - http://www.videolan.org/x264.html - options: cabac=1 ref=3 deblock=1:0:0 analyse=0x3:0x113 me=hex subme=7 psy=1 psy_rd=1.00:0.00 mixed_ref=1 me_range=16 chroma_me=1 trellis=1 8x8dct=1 cqm=0 deadzone=21,11 fast_pskip=1 chroma_qp_offset=-2 threads=18 lookahead_threads=3 sliced_threads=0 nr=0 decimate=1 interlaced=0 bluray_compat=0 constrained_intra=0 bframes=3 b_pyramid=2 b_adapt=1 b_bias=0 direct=1 weightb=1 open_gop=0 weightp=2 keyint=250 keyint_min=25 scenecut=40 intra_refresh=0 rc_lookahead=40 rc=crf mbtree=1 crf=23.0 qcomp=0.60 qpmin=0 qpmax=69 qpstep=4 ip_ratio=1.40 aq=1:1.00\n",
      "Output #0, mp4, to '/Users/Julian.Tanke/Library/CloudStorage/OneDrive-Sony/Documents/Code/sai_humanposer/output/vid.mp4':\n",
      "  Metadata:\n",
      "    major_brand     : isom\n",
      "    minor_version   : 512\n",
      "    compatible_brands: isomiso2avc1mp41\n",
      "    encoder         : Lavf61.1.100\n",
      "  Stream #0:0(und): Video: h264 (avc1 / 0x31637661), yuv420p(progressive), 800x800 [SAR 1:1 DAR 1:1], q=2-31, 60 fps, 15360 tbn (default)\n",
      "      Metadata:\n",
      "        handler_name    : VideoHandler\n",
      "        vendor_id       : [0][0][0][0]\n",
      "        encoder         : Lavc61.3.100 libx264\n",
      "      Side data:\n",
      "        cpb: bitrate max/min/avg: 0/0/0 buffer size: 0 vbv_delay: N/A\n",
      "[out#0/mp4 @ 0x14ef2cd60] video:118KiB audio:0KiB subtitle:0KiB other streams:0KiB global headers:0KiB muxing overhead: 1.600561%\n",
      "frame=  100 fps=0.0 q=-1.0 Lsize=     120KiB time=00:00:01.63 bitrate= 602.9kbits/s speed=13.5x    \n",
      "[libx264 @ 0x14ef2d380] frame I:1     Avg QP:16.63  size: 19856\n",
      "[libx264 @ 0x14ef2d380] frame P:29    Avg QP:23.32  size:  2645\n",
      "[libx264 @ 0x14ef2d380] frame B:70    Avg QP:29.70  size:   341\n",
      "[libx264 @ 0x14ef2d380] consecutive B-frames:  1.0%  0.0% 51.0% 48.0%\n",
      "[libx264 @ 0x14ef2d380] mb I  I16..4: 62.8% 33.1%  4.2%\n",
      "[libx264 @ 0x14ef2d380] mb P  I16..4:  0.2%  0.2%  0.0%  P16..4:  7.3%  1.0%  0.9%  0.0%  0.0%    skip:90.4%\n",
      "[libx264 @ 0x14ef2d380] mb B  I16..4:  0.0%  0.0%  0.0%  B16..8:  5.1%  0.2%  0.0%  direct: 0.3%  skip:94.4%  L0:51.7% L1:43.9% BI: 4.4%\n",
      "[libx264 @ 0x14ef2d380] 8x8 transform intra:35.4% inter:66.6%\n",
      "[libx264 @ 0x14ef2d380] coded y,uvDC,uvAC intra: 7.6% 11.4% 11.0% inter: 0.9% 2.7% 2.5%\n",
      "[libx264 @ 0x14ef2d380] i16 v,h,dc,p: 95%  2%  3%  0%\n",
      "[libx264 @ 0x14ef2d380] i8 v,h,dc,ddl,ddr,vr,hd,vl,hu: 52%  6% 39%  1%  0%  0%  0%  1%  1%\n",
      "[libx264 @ 0x14ef2d380] i4 v,h,dc,ddl,ddr,vr,hd,vl,hu: 28% 17% 27%  4%  4%  5%  4%  5%  6%\n",
      "[libx264 @ 0x14ef2d380] i8c dc,h,v,p: 90%  4%  6%  1%\n",
      "[libx264 @ 0x14ef2d380] Weighted P-Frames: Y:0.0% UV:0.0%\n",
      "[libx264 @ 0x14ef2d380] ref P L0: 52.4%  3.1% 25.4% 19.1%\n",
      "[libx264 @ 0x14ef2d380] ref B L0: 44.9% 36.6% 18.4%\n",
      "[libx264 @ 0x14ef2d380] ref B L1: 72.6% 27.4%\n",
      "[libx264 @ 0x14ef2d380] kb/s:578.18\n"
     ]
    }
   ],
   "source": [
    "%matplotlib inline\n",
    "import sys\n",
    "sys.path.insert(0, \"./\")\n",
    "\n",
    "import matplotlib.pylab as plt\n",
    "import numpy as np\n",
    "\n",
    "from humanposer import get_smpl, smpl_forward_no_grad\n",
    "from einops import rearrange\n",
    "from humanposer.vis import render_sequence_from_vertices\n",
    "\n",
    "# smpl = get_smpl(gender=\"male\")\n",
    "\n",
    "betas = np.zeros((10), dtype=np.float32)\n",
    "smpl_poses = np.zeros((100, 72), dtype=np.float32)\n",
    "global_transl = np.zeros((100, 3), dtype=np.float32)\n",
    "global_transl[:, 0] = np.linspace(0, 1, num=100)\n",
    "\n",
    "V, J = smpl_forward_no_grad(smpl_poses=smpl_poses, betas=betas, global_transl=global_transl)\n",
    "\n",
    "V = rearrange(V, \"t j d -> 1 t j d\")\n",
    "print(\"V\", V.shape)\n",
    "# V = V[0]\n",
    "\n",
    "# fig = plt.figure(figsize=(8, 8))\n",
    "# ax = fig.add_subplot(111, projection=\"3d\")\n",
    "# ax.scatter(V[:, 0], V[:, 1], V[:, 2], s=1)\n",
    "# ax.view_init(90, 270)\n",
    "# plt.show()\n",
    "\n",
    "render_sequence_from_vertices(video_fname=\"/Users/Julian.Tanke/Library/CloudStorage/OneDrive-Sony/Documents/Code/sai_humanposer/output/vid.mp4\", Vs=V, framerate=60)"
   ]
  },
  {
   "cell_type": "code",
   "execution_count": 2,
   "metadata": {},
   "outputs": [],
   "source": [
    "# import os\n",
    "# os.environ[\"model_path\"] = \"/Users/Julian.Tanke/Library/CloudStorage/OneDrive-Sony/Documents/Code/sai_humanposer/bodymodels/smpl\""
   ]
  },
  {
   "cell_type": "code",
   "execution_count": 3,
   "metadata": {},
   "outputs": [],
   "source": [
    "# from aitviewer.configuration import CONFIG as C\n",
    "# C.update_conf({\"smplx_models\": \"/Users/Julian.Tanke/Library/CloudStorage/OneDrive-Sony/Documents/Code/sai_humanposer/smplx_models\"})\n"
   ]
  },
  {
   "cell_type": "code",
   "execution_count": 4,
   "metadata": {},
   "outputs": [
    {
     "name": "stderr",
     "output_type": "stream",
     "text": [
      "Rendering frames:   0%|          | 0/100 [00:00<?, ?it/s]UNSUPPORTED (log once): POSSIBLE ISSUE: unit 0 GLD_TEXTURE_INDEX_2D is unloadable and bound to sampler type (Depth) - using zero texture because texture unloadable\n",
      "Rendering frames: 100%|██████████| 100/100 [00:10<00:00,  9.61it/s]"
     ]
    },
    {
     "name": "stdout",
     "output_type": "stream",
     "text": [
      "Frames saved to /Users/Julian.Tanke/Library/CloudStorage/OneDrive-Sony/Documents/Code/sai_humanposer/output/0001\n"
     ]
    },
    {
     "name": "stderr",
     "output_type": "stream",
     "text": [
      "\n"
     ]
    }
   ],
   "source": [
    "# import torch\n",
    "# from aitviewer.headless import HeadlessRenderer\n",
    "# from aitviewer.renderables.smpl import SMPLSequence\n",
    "# from aitviewer.models.smpl import SMPLLayer\n",
    "\n",
    "# r = HeadlessRenderer()\n",
    "# smpl_layer = SMPLLayer(model_type=\"smpl\", gender=\"neutral\")\n",
    "\n",
    "# poses_body = np.zeros((100, 69), dtype=np.float32)\n",
    "# trans = np.zeros((100, 3), dtype=np.float32)\n",
    "# poses_root = np.zeros((100, 3), dtype=np.float32)\n",
    "\n",
    "# poses_body = torch.from_numpy(poses_body)\n",
    "# trans = torch.from_numpy(trans)\n",
    "\n",
    "# seq = SMPLSequence(poses_body=poses_body, smpl_layer=smpl_layer, trans=trans, poses_root=poses_root)\n",
    "\n",
    "# r.scene.add(seq)\n",
    "\n",
    "\n",
    "# r.save_video(frame_dir=\"/Users/Julian.Tanke/Library/CloudStorage/OneDrive-Sony/Documents/Code/sai_humanposer/output\")\n"
   ]
  }
 ],
 "metadata": {
  "kernelspec": {
   "display_name": "sai_humanposer",
   "language": "python",
   "name": "python3"
  },
  "language_info": {
   "codemirror_mode": {
    "name": "ipython",
    "version": 3
   },
   "file_extension": ".py",
   "mimetype": "text/x-python",
   "name": "python",
   "nbconvert_exporter": "python",
   "pygments_lexer": "ipython3",
   "version": "3.9.19"
  }
 },
 "nbformat": 4,
 "nbformat_minor": 2
}
