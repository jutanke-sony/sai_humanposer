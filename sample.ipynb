{
 "cells": [
  {
   "cell_type": "code",
   "execution_count": null,
   "metadata": {},
   "outputs": [
    {
     "name": "stdout",
     "output_type": "stream",
     "text": [
      "WARNING: You are using a SMPL+H model, with only 16 shape coefficients.\n",
      "num_betas=16, shapedirs.shape=(6890, 3, 16), self.SHAPE_SPACE_DIM=300\n",
      "V torch.Size([1, 10475, 3])\n",
      "V torch.Size([1, 6890, 3])\n"
     ]
    }
   ],
   "source": [
    "%matplotlib inline\n",
    "import sys\n",
    "sys.path.insert(0, \"./\")\n",
    "\n",
    "import matplotlib.pylab as plt\n",
    "import numpy as np\n",
    "\n",
    "from humanposer import get_smpl, get_smplh, get_smplx, smpl_forward_no_grad, download_bodymodels\n",
    "from einops import rearrange\n",
    "from humanposer.vis import render_sequence_from_vertices\n",
    "\n",
    "\n",
    "# download_bodymodels(\"/secret/location/smpl_configs.yaml\")\n",
    "\n",
    "# smpl = get_smpl(gender=\"male\")\n",
    "smplx = get_smplx(gender=\"male\")\n",
    "smplh = get_smplh(gender=\"male\")\n",
    "\n",
    "out = smplx()\n",
    "V = out.vertices\n",
    "print(\"V\",V.shape)\n",
    "\n",
    "out = smplh()\n",
    "V = out.vertices\n",
    "print(\"V\",V.shape)\n"
   ]
  },
  {
   "cell_type": "code",
   "execution_count": 2,
   "metadata": {},
   "outputs": [],
   "source": [
    "# import pickle\n",
    "\n",
    "# fname = \"/Users/Julian.Tanke/Documents/Code/sai_humanposer/bodymodels/smpl/basicmodel_m_lbs_10_207_0_v1.0.0.pkl\"\n",
    "\n",
    "# with open(fname, \"rb\") as f:\n",
    "#     data = pickle.load(f, encoding='latin1')\n",
    "\n"
   ]
  },
  {
   "cell_type": "code",
   "execution_count": 3,
   "metadata": {},
   "outputs": [],
   "source": [
    "# import os\n",
    "# os.environ[\"model_path\"] = \"/Users/Julian.Tanke/Library/CloudStorage/OneDrive-Sony/Documents/Code/sai_humanposer/bodymodels/smpl\""
   ]
  },
  {
   "cell_type": "code",
   "execution_count": 4,
   "metadata": {},
   "outputs": [],
   "source": [
    "# from aitviewer.configuration import CONFIG as C\n",
    "# C.update_conf({\"smplx_models\": \"/Users/Julian.Tanke/Library/CloudStorage/OneDrive-Sony/Documents/Code/sai_humanposer/smplx_models\"})\n"
   ]
  },
  {
   "cell_type": "code",
   "execution_count": 5,
   "metadata": {},
   "outputs": [],
   "source": [
    "# import torch\n",
    "# from aitviewer.headless import HeadlessRenderer\n",
    "# from aitviewer.renderables.smpl import SMPLSequence\n",
    "# from aitviewer.models.smpl import SMPLLayer\n",
    "\n",
    "# r = HeadlessRenderer()\n",
    "# smpl_layer = SMPLLayer(model_type=\"smpl\", gender=\"neutral\")\n",
    "\n",
    "# poses_body = np.zeros((100, 69), dtype=np.float32)\n",
    "# trans = np.zeros((100, 3), dtype=np.float32)\n",
    "# poses_root = np.zeros((100, 3), dtype=np.float32)\n",
    "\n",
    "# poses_body = torch.from_numpy(poses_body)\n",
    "# trans = torch.from_numpy(trans)\n",
    "\n",
    "# seq = SMPLSequence(poses_body=poses_body, smpl_layer=smpl_layer, trans=trans, poses_root=poses_root)\n",
    "\n",
    "# r.scene.add(seq)\n",
    "\n",
    "\n",
    "# r.save_video(frame_dir=\"/Users/Julian.Tanke/Library/CloudStorage/OneDrive-Sony/Documents/Code/sai_humanposer/output\")\n"
   ]
  }
 ],
 "metadata": {
  "kernelspec": {
   "display_name": "humanposerv1",
   "language": "python",
   "name": "python3"
  },
  "language_info": {
   "codemirror_mode": {
    "name": "ipython",
    "version": 3
   },
   "file_extension": ".py",
   "mimetype": "text/x-python",
   "name": "python",
   "nbconvert_exporter": "python",
   "pygments_lexer": "ipython3",
   "version": "3.12.9"
  }
 },
 "nbformat": 4,
 "nbformat_minor": 2
}
