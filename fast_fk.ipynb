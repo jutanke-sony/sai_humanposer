{
 "cells": [
  {
   "cell_type": "code",
   "execution_count": 1,
   "id": "84825078",
   "metadata": {},
   "outputs": [
    {
     "name": "stdout",
     "output_type": "stream",
     "text": [
      "WARNING: You are using a SMPL+H model, with only 16 shape coefficients.\n",
      "num_betas=10, shapedirs.shape=(6890, 3, 16), self.SHAPE_SPACE_DIM=300\n"
     ]
    }
   ],
   "source": [
    "%matplotlib inline\n",
    "import torch\n",
    "import sys\n",
    "from humanposer.fast_fk import FastFK\n",
    "from humanposer import get_smplh\n",
    "\n",
    "smplh = get_smplh(gender=\"male\")\n",
    "\n",
    "fast_fk = FastFK(smplh)\n"
   ]
  },
  {
   "cell_type": "code",
   "execution_count": 2,
   "id": "ba333b30",
   "metadata": {},
   "outputs": [
    {
     "name": "stdout",
     "output_type": "stream",
     "text": [
      "pred torch.Size([100, 52, 3])\n"
     ]
    }
   ],
   "source": [
    "x = torch.zeros((100, 24*6), dtype=torch.float32)\n",
    "\n",
    "pred = fast_fk(x)\n",
    "\n",
    "print(\"pred\", pred.shape)"
   ]
  }
 ],
 "metadata": {
  "kernelspec": {
   "display_name": "humanposerv1",
   "language": "python",
   "name": "python3"
  },
  "language_info": {
   "codemirror_mode": {
    "name": "ipython",
    "version": 3
   },
   "file_extension": ".py",
   "mimetype": "text/x-python",
   "name": "python",
   "nbconvert_exporter": "python",
   "pygments_lexer": "ipython3",
   "version": "3.12.9"
  }
 },
 "nbformat": 4,
 "nbformat_minor": 5
}
